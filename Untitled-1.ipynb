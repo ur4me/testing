{
 "cells": [
  {
   "cell_type": "code",
   "execution_count": 1,
   "metadata": {},
   "outputs": [
    {
     "data": {
      "text/plain": [
       "2"
      ]
     },
     "execution_count": 1,
     "metadata": {},
     "output_type": "execute_result"
    }
   ],
   "source": [
    "1+1"
   ]
  },
  {
   "cell_type": "code",
   "execution_count": 2,
   "metadata": {},
   "outputs": [],
   "source": [
    "import pandas as pd"
   ]
  },
  {
   "cell_type": "code",
   "execution_count": 3,
   "metadata": {},
   "outputs": [],
   "source": [
    "import numpy as np"
   ]
  },
  {
   "cell_type": "code",
   "execution_count": 4,
   "metadata": {},
   "outputs": [
    {
     "name": "stdout",
     "output_type": "stream",
     "text": [
      "hello world\n"
     ]
    }
   ],
   "source": [
    "print('hello world')"
   ]
  },
  {
   "cell_type": "code",
   "execution_count": 5,
   "metadata": {},
   "outputs": [],
   "source": [
    "import yfinance as yf"
   ]
  },
  {
   "cell_type": "code",
   "execution_count": 6,
   "metadata": {},
   "outputs": [
    {
     "name": "stderr",
     "output_type": "stream",
     "text": [
      "[*********************100%%**********************]  1 of 1 completed\n"
     ]
    },
    {
     "data": {
      "text/html": [
       "<div>\n",
       "<style scoped>\n",
       "    .dataframe tbody tr th:only-of-type {\n",
       "        vertical-align: middle;\n",
       "    }\n",
       "\n",
       "    .dataframe tbody tr th {\n",
       "        vertical-align: top;\n",
       "    }\n",
       "\n",
       "    .dataframe thead th {\n",
       "        text-align: right;\n",
       "    }\n",
       "</style>\n",
       "<table border=\"1\" class=\"dataframe\">\n",
       "  <thead>\n",
       "    <tr style=\"text-align: right;\">\n",
       "      <th></th>\n",
       "      <th>Open</th>\n",
       "      <th>High</th>\n",
       "      <th>Low</th>\n",
       "      <th>Close</th>\n",
       "      <th>Adj Close</th>\n",
       "      <th>Volume</th>\n",
       "    </tr>\n",
       "    <tr>\n",
       "      <th>Date</th>\n",
       "      <th></th>\n",
       "      <th></th>\n",
       "      <th></th>\n",
       "      <th></th>\n",
       "      <th></th>\n",
       "      <th></th>\n",
       "    </tr>\n",
       "  </thead>\n",
       "  <tbody>\n",
       "    <tr>\n",
       "      <th>2010-02-11</th>\n",
       "      <td>0.406875</td>\n",
       "      <td>0.434896</td>\n",
       "      <td>0.405573</td>\n",
       "      <td>0.432552</td>\n",
       "      <td>0.420546</td>\n",
       "      <td>3456000</td>\n",
       "    </tr>\n",
       "    <tr>\n",
       "      <th>2010-02-12</th>\n",
       "      <td>0.420781</td>\n",
       "      <td>0.438073</td>\n",
       "      <td>0.418333</td>\n",
       "      <td>0.434323</td>\n",
       "      <td>0.422268</td>\n",
       "      <td>8601600</td>\n",
       "    </tr>\n",
       "    <tr>\n",
       "      <th>2010-02-16</th>\n",
       "      <td>0.444531</td>\n",
       "      <td>0.452188</td>\n",
       "      <td>0.437552</td>\n",
       "      <td>0.451146</td>\n",
       "      <td>0.438624</td>\n",
       "      <td>9619200</td>\n",
       "    </tr>\n",
       "    <tr>\n",
       "      <th>2010-02-17</th>\n",
       "      <td>0.457188</td>\n",
       "      <td>0.458906</td>\n",
       "      <td>0.450313</td>\n",
       "      <td>0.458802</td>\n",
       "      <td>0.446068</td>\n",
       "      <td>19180800</td>\n",
       "    </tr>\n",
       "    <tr>\n",
       "      <th>2010-02-18</th>\n",
       "      <td>0.458333</td>\n",
       "      <td>0.470260</td>\n",
       "      <td>0.455573</td>\n",
       "      <td>0.467500</td>\n",
       "      <td>0.454524</td>\n",
       "      <td>38860800</td>\n",
       "    </tr>\n",
       "    <tr>\n",
       "      <th>...</th>\n",
       "      <td>...</td>\n",
       "      <td>...</td>\n",
       "      <td>...</td>\n",
       "      <td>...</td>\n",
       "      <td>...</td>\n",
       "      <td>...</td>\n",
       "    </tr>\n",
       "    <tr>\n",
       "      <th>2024-04-10</th>\n",
       "      <td>58.360001</td>\n",
       "      <td>59.279999</td>\n",
       "      <td>58.060001</td>\n",
       "      <td>58.930000</td>\n",
       "      <td>58.930000</td>\n",
       "      <td>101040300</td>\n",
       "    </tr>\n",
       "    <tr>\n",
       "      <th>2024-04-11</th>\n",
       "      <td>59.610001</td>\n",
       "      <td>62.060001</td>\n",
       "      <td>58.680000</td>\n",
       "      <td>61.700001</td>\n",
       "      <td>61.700001</td>\n",
       "      <td>73465600</td>\n",
       "    </tr>\n",
       "    <tr>\n",
       "      <th>2024-04-12</th>\n",
       "      <td>59.880001</td>\n",
       "      <td>60.349998</td>\n",
       "      <td>58.119999</td>\n",
       "      <td>58.720001</td>\n",
       "      <td>58.720001</td>\n",
       "      <td>86015900</td>\n",
       "    </tr>\n",
       "    <tr>\n",
       "      <th>2024-04-15</th>\n",
       "      <td>60.200001</td>\n",
       "      <td>60.230000</td>\n",
       "      <td>55.439999</td>\n",
       "      <td>55.770000</td>\n",
       "      <td>55.770000</td>\n",
       "      <td>101828100</td>\n",
       "    </tr>\n",
       "    <tr>\n",
       "      <th>2024-04-16</th>\n",
       "      <td>55.689999</td>\n",
       "      <td>56.810001</td>\n",
       "      <td>55.240002</td>\n",
       "      <td>55.779999</td>\n",
       "      <td>55.779999</td>\n",
       "      <td>81487800</td>\n",
       "    </tr>\n",
       "  </tbody>\n",
       "</table>\n",
       "<p>3568 rows × 6 columns</p>\n",
       "</div>"
      ],
      "text/plain": [
       "                 Open       High        Low      Close  Adj Close     Volume\n",
       "Date                                                                        \n",
       "2010-02-11   0.406875   0.434896   0.405573   0.432552   0.420546    3456000\n",
       "2010-02-12   0.420781   0.438073   0.418333   0.434323   0.422268    8601600\n",
       "2010-02-16   0.444531   0.452188   0.437552   0.451146   0.438624    9619200\n",
       "2010-02-17   0.457188   0.458906   0.450313   0.458802   0.446068   19180800\n",
       "2010-02-18   0.458333   0.470260   0.455573   0.467500   0.454524   38860800\n",
       "...               ...        ...        ...        ...        ...        ...\n",
       "2024-04-10  58.360001  59.279999  58.060001  58.930000  58.930000  101040300\n",
       "2024-04-11  59.610001  62.060001  58.680000  61.700001  61.700001   73465600\n",
       "2024-04-12  59.880001  60.349998  58.119999  58.720001  58.720001   86015900\n",
       "2024-04-15  60.200001  60.230000  55.439999  55.770000  55.770000  101828100\n",
       "2024-04-16  55.689999  56.810001  55.240002  55.779999  55.779999   81487800\n",
       "\n",
       "[3568 rows x 6 columns]"
      ]
     },
     "execution_count": 6,
     "metadata": {},
     "output_type": "execute_result"
    }
   ],
   "source": [
    "yf.download('TQQQ')"
   ]
  },
  {
   "cell_type": "code",
   "execution_count": null,
   "metadata": {},
   "outputs": [],
   "source": []
  }
 ],
 "metadata": {
  "kernelspec": {
   "display_name": "base",
   "language": "python",
   "name": "python3"
  },
  "language_info": {
   "codemirror_mode": {
    "name": "ipython",
    "version": 3
   },
   "file_extension": ".py",
   "mimetype": "text/x-python",
   "name": "python",
   "nbconvert_exporter": "python",
   "pygments_lexer": "ipython3",
   "version": "3.11.7"
  }
 },
 "nbformat": 4,
 "nbformat_minor": 2
}
